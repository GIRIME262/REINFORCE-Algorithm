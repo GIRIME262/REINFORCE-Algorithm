{
 "cells": [
  {
   "cell_type": "markdown",
   "metadata": {},
   "source": [
    "# REINFORCE Algorithm"
   ]
  },
  {
   "cell_type": "markdown",
   "metadata": {},
   "source": [
    "### 1. Muestrar {$\\tau^i$} de $\\pi_{\\theta}(a_t|s_t)$ - Correr M trayectorias usando la policy\n",
    "### 2. Estimar el retorno: $$ R(\\tau_i)  \\approx \\sum_{t=0}^{T}R(s_t^i, a_t^i)$$\n",
    "### 3. Entrenar un modelo: $$ \\nabla_{\\theta} J_{\\theta} \\approx \\frac{1}{M} \\sum_{i=1}^{M}  R(\\tau_i)   \\sum_{t=0}^T \\nabla_{\\theta} log \\pi_{\\theta}(a_t^i|s_t^i)$$\n",
    "$$\\large \\theta = \\theta + \\alpha \\nabla_{\\theta} J_{\\theta}$$"
   ]
  },
  {
   "cell_type": "markdown",
   "metadata": {},
   "source": [
    "# Implementación en Keras"
   ]
  },
  {
   "cell_type": "markdown",
   "metadata": {},
   "source": [
    "### Suponiendo que solo corremos un episodio por iteración"
   ]
  },
  {
   "cell_type": "markdown",
   "metadata": {},
   "source": [
    "La loss queda (Le ponemos un menos adelante para que tengamos que minimizar):\n",
    "\n",
    "$$ \\huge J_{\\theta} =  - R \\sum_{t=0}^T log \\pi_{\\theta}(a_t|s_t)$$\n",
    "$$ \\huge J_{\\theta} =  - \\sum_{t=0}^T log \\pi_{\\theta}(a_t|s_t) R $$\n",
    "$$ \\huge J_{\\theta} =  \\sum_{t=0}^T log \\frac{1}{\\pi_{\\theta}(a_t|s_t)} R $$"
   ]
  },
  {
   "cell_type": "markdown",
   "metadata": {},
   "source": [
    "Recordando la Entropía cruzada:\n",
    "\n",
    "$$ \\huge H(y_{true}, y_{pred}) = \\sum_{i} y_{true_i} log (\\frac{1}{y_{pred_i}}) $$\n",
    "\n",
    "Ejemplo: \n",
    "\n",
    "- Sumpongamos que tenemos 3 acciones posibles y la red neuronal predijo $y_{pred}$ = [0.2, 0.3, 0.5]\n",
    "- Se muestreó la salida y se eligión la acción 2, es decir la acción con probabilidad 0.3\n",
    "- La $y_{true}$ será [0, 1, 0]\n",
    "\n",
    "$$ \\huge H = 0 log (\\frac{1}{0.2}) + 1 log (\\frac{1}{0.3}) + 0 log (\\frac{1}{0.5}) $$\n",
    "\n",
    "- Si redefinimos la $y_{true}$ como $y_{true}$ = $y_{true} R$\n",
    "- La $y_{true}$ queda [0, R, 0]\n",
    "\n",
    "$$ \\huge H = 0 log (\\frac{1}{0.2}) + R log (\\frac{1}{0.3}) + 0 log (\\frac{1}{0.5}) = R log (\\frac{1}{\\pi_{\\theta}(a_t|s_t)}) $$"
   ]
  },
  {
   "cell_type": "code",
   "execution_count": 1,
   "metadata": {},
   "outputs": [],
   "source": [
    "%load_ext autoreload\n",
    "%autoreload 2"
   ]
  },
  {
   "cell_type": "code",
   "execution_count": 2,
   "metadata": {},
   "outputs": [],
   "source": [
    "# conda install -c conda-forge tensorboardx"
   ]
  },
  {
   "cell_type": "code",
   "execution_count": 3,
   "metadata": {},
   "outputs": [
    {
     "name": "stderr",
     "output_type": "stream",
     "text": [
      "Using TensorFlow backend.\n"
     ]
    }
   ],
   "source": [
    "from REINFORCE_helper import BaseAgent\n",
    "from keras.models import Sequential\n",
    "from keras.layers import Dense\n",
    "from keras.optimizers import Adam, SGD\n",
    "import keras.backend as K\n",
    "import numpy as np"
   ]
  },
  {
   "cell_type": "code",
   "execution_count": 4,
   "metadata": {},
   "outputs": [],
   "source": [
    "class ReinforceAgent(BaseAgent):\n",
    "    # def __init__(self):\n",
    "    def get_policy_model(self, lr=0.001, hidden_layer_neurons = 128, input_shape=[4], output_shape=2):\n",
    "        ## Defino métrica - loss sin el retorno multiplicando\n",
    "        def loss_metric(y_true, y_pred):\n",
    "            y_true_norm = K.sign(y_true)\n",
    "            return K.categorical_crossentropy(y_true_norm, y_pred)\n",
    "        model = Sequential()\n",
    "        model.add(Dense(hidden_layer_neurons, input_shape=input_shape, activation='relu'))\n",
    "        model.add(Dense(output_shape, activation='softmax'))\n",
    "\n",
    "        model.compile(Adam(lr), loss=# Completar con loss , metrics=[loss_metric])\n",
    "        return model\n",
    "    \n",
    "    def get_action(self, eval=False):\n",
    "        # En self.observation esta guardada la ultima observación\n",
    "        p = self.model. # Realizar predicción, no olvidar el reshape(1, self.nS)\n",
    "        if eval is False:\n",
    "            action = # Samplear p np.random.choice\n",
    "        else:\n",
    "            action = # Elegir acción con np.argmax(p[0])\n",
    "        action_one_hot = np.zeros(self.nA)\n",
    "        action_one_hot[action] = 1\n",
    "        return action, action_one_hot, p\n",
    "    \n",
    "    def get_entropy(self, preds, epsilon=1e-12):\n",
    "        # Entropía normalizada\n",
    "        entropy = np.mean(-np.sum(np.log(preds+epsilon)*preds, axis=1)/np.log(self.nA))\n",
    "        return entropy\n",
    "    \n",
    "    def get_discounted_rewards(self, r):\n",
    "        # Por si es una lista\n",
    "        r = np.array(r, dtype=float)\n",
    "        \"\"\"Take 1D float array of rewards and compute discounted reward \"\"\"\n",
    "        discounted_r = np.zeros_like(r)\n",
    "        running_add = 0\n",
    "        for t in reversed(range(0, r.size)):\n",
    "            running_add = running_add * self.gamma + r[t]\n",
    "            discounted_r[t] = running_add\n",
    "        return discounted_r "
   ]
  },
  {
   "cell_type": "raw",
   "metadata": {},
   "source": [
    "# Ejemplos para probar get_discounted_rewards:\n",
    "\n",
    "reinforce_agent.get_discounted_rewards([1, 1, 1, 1, 1, 1])\n",
    "array([5.98501999, 4.99001   , 3.994004  , 2.997001  , 1.999     ,\n",
    "       1.        ])\n",
    "\n",
    "reinforce_agent.get_discounted_rewards([1, 2, 3, 4, 5, 6])\n",
    "array([20.93010492, 19.95005497, 17.96802299, 14.983006  , 10.994     ,\n",
    "        6.        ])\n",
    "\n",
    "reinforce_agent.get_discounted_rewards([5, 4, -3, -4, 5, 8])\n",
    "array([14.9540949 ,  9.96405896,  5.97002899,  8.979008  , 12.992     ,\n",
    "        8.        ])"
   ]
  },
  {
   "cell_type": "code",
   "execution_count": 5,
   "metadata": {},
   "outputs": [
    {
     "name": "stdout",
     "output_type": "stream",
     "text": [
      "WARNING:tensorflow:From /home/usuario/anaconda3/envs/GPUV2/lib/python3.6/site-packages/tensorflow/python/framework/op_def_library.py:263: colocate_with (from tensorflow.python.framework.ops) is deprecated and will be removed in a future version.\n",
      "Instructions for updating:\n",
      "Colocations handled automatically by placer.\n"
     ]
    },
    {
     "data": {
      "text/plain": [
       "'logs/CartPole-v1/REINFORCE/1_1_0.999_0.001_1574901399'"
      ]
     },
     "execution_count": 5,
     "metadata": {},
     "output_type": "execute_result"
    }
   ],
   "source": [
    "reinforce_agent = ReinforceAgent('CartPole-v1', n_experience_episodes=1)\n",
    "reinforce_agent.logdir"
   ]
  },
  {
   "cell_type": "code",
   "execution_count": 6,
   "metadata": {},
   "outputs": [
    {
     "name": "stdout",
     "output_type": "stream",
     "text": [
      "Model: \"sequential_1\"\n",
      "_________________________________________________________________\n",
      "Layer (type)                 Output Shape              Param #   \n",
      "=================================================================\n",
      "dense_1 (Dense)              (None, 128)               640       \n",
      "_________________________________________________________________\n",
      "dense_2 (Dense)              (None, 2)                 258       \n",
      "=================================================================\n",
      "Total params: 898\n",
      "Trainable params: 898\n",
      "Non-trainable params: 0\n",
      "_________________________________________________________________\n"
     ]
    }
   ],
   "source": [
    "reinforce_agent.model.summary()"
   ]
  },
  {
   "cell_type": "code",
   "execution_count": 7,
   "metadata": {},
   "outputs": [
    {
     "name": "stdout",
     "output_type": "stream",
     "text": [
      "Action: 1\n",
      "action_one_hot: [0. 1.]\n",
      "Policy prob dist: [[0.50171095 0.49828902]]\n"
     ]
    }
   ],
   "source": [
    "reinforce_agent.reset_env()\n",
    "action, action_one_hot, p = reinforce_agent.get_action()\n",
    "print('Action:', action)\n",
    "print('action_one_hot:', action_one_hot)\n",
    "print('Policy prob dist:', p)"
   ]
  },
  {
   "cell_type": "code",
   "execution_count": 8,
   "metadata": {},
   "outputs": [],
   "source": [
    "reinforce_agent.reset_env()\n",
    "obs, actions, preds, disc_sum_rews, rewards, ep_returns, ep_len, last_obs = reinforce_agent.get_experience_episodes()"
   ]
  },
  {
   "cell_type": "code",
   "execution_count": 9,
   "metadata": {},
   "outputs": [
    {
     "name": "stdout",
     "output_type": "stream",
     "text": [
      "Observaciones:\n",
      "[[-4.57454587e-02 -3.80521711e-02 -1.47490311e-02  3.41119399e-02]\n",
      " [-4.65065021e-02  1.57278147e-01 -1.40667923e-02 -2.63187727e-01]\n",
      " [-4.33609392e-02  3.52598031e-01 -1.93305469e-02 -5.60274068e-01]\n",
      " [-3.63089786e-02  5.47985880e-01 -3.05360282e-02 -8.58983913e-01]\n",
      " [-2.53492610e-02  3.53292890e-01 -4.77157065e-02 -5.76056769e-01]\n",
      " [-1.82834032e-02  5.49050086e-01 -5.92368418e-02 -8.83381449e-01]\n",
      " [-7.30240146e-03  3.54780441e-01 -7.69044708e-02 -6.09893550e-01]\n",
      " [-2.06792632e-04  5.50888392e-01 -8.91023418e-02 -9.25773657e-01]\n",
      " [ 1.08109752e-02  3.57075433e-01 -1.07617815e-01 -6.62368939e-01]\n",
      " [ 1.79524839e-02  1.63602338e-01 -1.20865194e-01 -4.05416821e-01]\n",
      " [ 2.12245306e-02 -2.96168657e-02 -1.28973530e-01 -1.53150320e-01]\n",
      " [ 2.06321933e-02  1.67093270e-01 -1.32036537e-01 -4.83578023e-01]\n",
      " [ 2.39740587e-02 -2.59422370e-02 -1.41708097e-01 -2.35251130e-01]\n",
      " [ 2.34552140e-02  1.70890006e-01 -1.46413120e-01 -5.69062867e-01]\n",
      " [ 2.68730141e-02  3.67729212e-01 -1.57794377e-01 -9.04054452e-01]\n",
      " [ 3.42275983e-02  1.75055710e-01 -1.75875466e-01 -6.64834050e-01]\n",
      " [ 3.77287125e-02  3.72131361e-01 -1.89172147e-01 -1.00732854e+00]\n",
      " [ 4.51713398e-02  5.69205984e-01 -2.09318718e-01 -1.35295232e+00]]\n",
      "Acciones:\n",
      "[[0. 1.]\n",
      " [0. 1.]\n",
      " [0. 1.]\n",
      " [1. 0.]\n",
      " [0. 1.]\n",
      " [1. 0.]\n",
      " [0. 1.]\n",
      " [1. 0.]\n",
      " [1. 0.]\n",
      " [1. 0.]\n",
      " [0. 1.]\n",
      " [1. 0.]\n",
      " [0. 1.]\n",
      " [0. 1.]\n",
      " [1. 0.]\n",
      " [0. 1.]\n",
      " [0. 1.]\n",
      " [0. 1.]]\n",
      "Policy prob dist:\n",
      "[[0.5007246  0.4992754 ]\n",
      " [0.5123435  0.48765644]\n",
      " [0.5266764  0.4733236 ]\n",
      " [0.54097533 0.4590247 ]\n",
      " [0.5267164  0.47328356]\n",
      " [0.5411827  0.45881724]\n",
      " [0.52719533 0.4728046 ]\n",
      " [0.54180294 0.45819703]\n",
      " [0.52826285 0.47173712]\n",
      " [0.5152032  0.48479685]\n",
      " [0.5061911  0.49380893]\n",
      " [0.5170483  0.48295167]\n",
      " [0.50829107 0.49170896]\n",
      " [0.51883376 0.4811662 ]\n",
      " [0.5344255  0.46557447]\n",
      " [0.5208977  0.4791023 ]\n",
      " [0.53663105 0.46336898]\n",
      " [0.55187446 0.44812554]]\n",
      "Discounted Sum of Rewards:\n",
      "[17.84781295 16.86467763 15.88055818 14.89545364 13.909363   12.92228529\n",
      " 11.93421951 10.94516467  9.95511979  8.96408387  7.97205593  6.97903497\n",
      "  5.98501999  4.99001     3.994004    2.997001    1.999       1.        ]\n",
      "Return copiado para cada acción:\n",
      "[17.84781295 17.84781295 17.84781295 17.84781295 17.84781295 17.84781295\n",
      " 17.84781295 17.84781295 17.84781295 17.84781295 17.84781295 17.84781295\n",
      " 17.84781295 17.84781295 17.84781295 17.84781295 17.84781295 17.84781295]\n",
      "Longitud del episodia: [18]\n",
      "Ultima observación: [ 0.05655546  0.76624933 -0.23637776 -1.70315726]\n"
     ]
    }
   ],
   "source": [
    "print('Observaciones:'), print(obs), print('Acciones:'), print(actions)\n",
    "print('Policy prob dist:'), print(preds)\n",
    "print('Discounted Sum of Rewards:')\n",
    "print(disc_sum_rews)\n",
    "print('Return copiado para cada acción:')\n",
    "print(ep_returns)\n",
    "print('Longitud del episodia:', ep_len)\n",
    "print('Ultima observación:', last_obs)"
   ]
  },
  {
   "cell_type": "code",
   "execution_count": 10,
   "metadata": {},
   "outputs": [
    {
     "data": {
      "text/plain": [
       "0.99761283"
      ]
     },
     "execution_count": 10,
     "metadata": {},
     "output_type": "execute_result"
    }
   ],
   "source": [
    "reinforce_agent.get_entropy(preds)"
   ]
  },
  {
   "cell_type": "markdown",
   "metadata": {},
   "source": [
    "# Algoritmo REINFORCE"
   ]
  },
  {
   "cell_type": "code",
   "execution_count": 11,
   "metadata": {},
   "outputs": [],
   "source": [
    "from REINFORCE_helper import RunningVariance\n",
    "from time import time"
   ]
  },
  {
   "cell_type": "markdown",
   "metadata": {},
   "source": [
    "# Pruebas interesantes:\n",
    "- n_experience_episodes=1, epochs=1, lr=0.001\n",
    "- n_experience_episodes=5, epochs=1, lr=0.001\n",
    "- n_experience_episodes=50, epochs=1, lr=0.001\n",
    "- n_experience_episodes=50, epochs=20, lr=0.001\n",
    "- n_experience_episodes=50, epochs=50, lr=0.001\n",
    "- n_experience_episodes=50, epochs=50, lr=0.01"
   ]
  },
  {
   "cell_type": "code",
   "execution_count": 20,
   "metadata": {},
   "outputs": [
    {
     "name": "stdout",
     "output_type": "stream",
     "text": [
      "correr en linea de comando: tensorboard --logdir logs/\n",
      "Episode: 51\n",
      "Model on episode 52 improved from -inf to 194.35177089045808. Saved!\n",
      "Episode: 259\n",
      "Model on episode 260 improved from 194.35177089045808 to 360.5991091588095. Saved!\n",
      "Episode: 519\n",
      "Model on episode 520 improved from 360.5991091588095 to 393.62105513881454. Saved!\n",
      "Episode: 935\n",
      "Model on episode 936 improved from 393.62105513881454 to 393.62105513881454. Saved!\n",
      "Episode: 987\n",
      "Model on episode 988 improved from 393.62105513881454 to 393.62105513881454. Saved!\n",
      "Episode: 1039\n",
      "Model on episode 1040 improved from 393.62105513881454 to 393.62105513881454. Saved!\n",
      "Episode: 1091\n",
      "Model on episode 1092 improved from 393.62105513881454 to 393.62105513881454. Saved!\n",
      "Episode: 1143\n",
      "Model on episode 1144 improved from 393.62105513881454 to 393.62105513881454. Saved!\n",
      "Episode: 1195\n",
      "Model on episode 1196 improved from 393.62105513881454 to 393.62105513881454. Saved!\n",
      "Episode: 1247\n",
      "Model on episode 1248 improved from 393.62105513881454 to 393.62105513881454. Saved!\n",
      "Episode: 1299\n",
      "Model on episode 1300 improved from 393.62105513881454 to 393.62105513881454. Saved!\n",
      "Episode: 1351\n",
      "Model on episode 1352 improved from 393.62105513881454 to 393.62105513881454. Saved!\n",
      "Episode: 1403\n",
      "Model on episode 1404 improved from 393.62105513881454 to 393.62105513881454. Saved!\n",
      "Episode: 1455\n",
      "Model on episode 1456 improved from 393.62105513881454 to 393.62105513881454. Saved!\n",
      "Episode: 1507\n",
      "Model on episode 1508 improved from 393.62105513881454 to 393.62105513881454. Saved!\n",
      "Episode: 1559\n",
      "Model on episode 1560 improved from 393.62105513881454 to 393.62105513881454. Saved!\n",
      "Episode: 1611\n",
      "Model on episode 1612 improved from 393.62105513881454 to 393.62105513881454. Saved!\n",
      "Episode: 1663\n",
      "Model on episode 1664 improved from 393.62105513881454 to 393.62105513881454. Saved!\n",
      "Episode: 1715\n",
      "Model on episode 1716 improved from 393.62105513881454 to 393.62105513881454. Saved!\n",
      "Episode: 1767\n",
      "Model on episode 1768 improved from 393.62105513881454 to 393.62105513881454. Saved!\n",
      "Episode: 1819\n",
      "Model on episode 1820 improved from 393.62105513881454 to 393.62105513881454. Saved!\n",
      "Episode: 1871\n",
      "Model on episode 1872 improved from 393.62105513881454 to 393.62105513881454. Saved!\n",
      "Episode: 1923\n",
      "Model on episode 1924 improved from 393.62105513881454 to 393.62105513881454. Saved!\n",
      "Episode: 1975\n",
      "Model on episode 1976 improved from 393.62105513881454 to 393.62105513881454. Saved!\n",
      "Episode: 2027\n",
      "Model on episode 2028 improved from 393.62105513881454 to 393.62105513881454. Saved!\n"
     ]
    }
   ],
   "source": [
    "reinforce_agent = ReinforceAgent('CartPole-v1', n_experience_episodes=50, EPISODES=2000, epochs=50, lr=0.01)\n",
    "running_variance = RunningVariance()\n",
    "initial_time = time()\n",
    "\n",
    "\n",
    "while reinforce_agent.episode < reinforce_agent.EPISODES:\n",
    "    obs, actions, preds, disc_sum_rews, rewards, ep_returns, ep_len, last_obs = # Simular los episodios\n",
    "    \n",
    "    for dr in ep_returns:\n",
    "        running_variance.add(dr)\n",
    "        \n",
    "    pseudolabels = # En este caso debe multiplicar las acciones por los returns\n",
    "\n",
    "    history = reinforce_agent.model.fit(#completar, #completar, verbose=0, epochs=reinforce_agent.epochs, batch_size=128)\n",
    "    \n",
    "    reinforce_agent.log_data(reinforce_agent.episode, \n",
    "                      history.history['loss'][0], \n",
    "                      np.mean(ep_len), \n",
    "                      reinforce_agent.get_entropy(preds), \n",
    "                      running_variance.get_variance(), \n",
    "                      history.history['loss_metric'][0], \n",
    "                      time() - initial_time, np.mean(ep_returns[-1]))"
   ]
  },
  {
   "cell_type": "code",
   "execution_count": null,
   "metadata": {},
   "outputs": [],
   "source": []
  }
 ],
 "metadata": {
  "kernelspec": {
   "display_name": "Python 3",
   "language": "python",
   "name": "python3"
  },
  "language_info": {
   "codemirror_mode": {
    "name": "ipython",
    "version": 3
   },
   "file_extension": ".py",
   "mimetype": "text/x-python",
   "name": "python",
   "nbconvert_exporter": "python",
   "pygments_lexer": "ipython3",
   "version": "3.6.8"
  }
 },
 "nbformat": 4,
 "nbformat_minor": 2
}
